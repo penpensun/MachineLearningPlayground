{
 "cells": [
  {
   "cell_type": "code",
   "execution_count": 2,
   "metadata": {},
   "outputs": [
    {
     "name": "stderr",
     "output_type": "stream",
     "text": [
      "/Users/penpen926/Library/anaconda/anaconda3/anaconda3/lib/python3.6/site-packages/h5py/__init__.py:36: FutureWarning: Conversion of the second argument of issubdtype from `float` to `np.floating` is deprecated. In future, it will be treated as `np.float64 == np.dtype(float).type`.\n",
      "  from ._conv import register_converters as _register_converters\n",
      "UsageError: Line magic function `%matplot` not found.\n"
     ]
    }
   ],
   "source": [
    "import tensorflow as tf;\n",
    "import numpy as np;\n",
    "import pandas as pd;\n",
    "import matplotlib.pyplot as plt;\n",
    "%matplot inline"
   ]
  },
  {
   "cell_type": "code",
   "execution_count": 5,
   "metadata": {},
   "outputs": [
    {
     "name": "stdout",
     "output_type": "stream",
     "text": [
      "[[1 2 3]\n",
      " [4 5 6]]\n",
      "<class 'numpy.ndarray'>\n"
     ]
    }
   ],
   "source": [
    "array = np.array([[1,2,3],[4,5,6]])\n",
    "print(array)\n",
    "print(type(array))\n"
   ]
  },
  {
   "cell_type": "code",
   "execution_count": 6,
   "metadata": {},
   "outputs": [
    {
     "name": "stdout",
     "output_type": "stream",
     "text": [
      "number of dim 2\n",
      "shape:  (2, 3)\n",
      "size:  6\n"
     ]
    }
   ],
   "source": [
    "print('number of dim', array.ndim);\n",
    "print('shape: ',array.shape);\n",
    "print('size: ',array.size);"
   ]
  },
  {
   "cell_type": "code",
   "execution_count": 7,
   "metadata": {},
   "outputs": [
    {
     "name": "stdout",
     "output_type": "stream",
     "text": [
      "<class 'numpy.ndarray'>\n"
     ]
    }
   ],
   "source": [
    "a = np.array([1,2,3]);\n",
    "print(type(a))"
   ]
  },
  {
   "cell_type": "code",
   "execution_count": 11,
   "metadata": {},
   "outputs": [
    {
     "name": "stdout",
     "output_type": "stream",
     "text": [
      "float32\n"
     ]
    }
   ],
   "source": [
    "a = np.array([1,2,3],dtype=np.float32)\n",
    "print(a.dtype)"
   ]
  },
  {
   "cell_type": "code",
   "execution_count": 13,
   "metadata": {},
   "outputs": [
    {
     "name": "stdout",
     "output_type": "stream",
     "text": [
      "[[0. 0. 0. 0.]\n",
      " [0. 0. 0. 0.]\n",
      " [0. 0. 0. 0.]]\n"
     ]
    }
   ],
   "source": [
    "a = np.zeros((3,4));\n",
    "print(a);"
   ]
  },
  {
   "cell_type": "code",
   "execution_count": 14,
   "metadata": {},
   "outputs": [
    {
     "name": "stdout",
     "output_type": "stream",
     "text": [
      "[[[1. 1. 1. 1. 1.]\n",
      "  [1. 1. 1. 1. 1.]\n",
      "  [1. 1. 1. 1. 1.]\n",
      "  [1. 1. 1. 1. 1.]\n",
      "  [1. 1. 1. 1. 1.]]\n",
      "\n",
      " [[1. 1. 1. 1. 1.]\n",
      "  [1. 1. 1. 1. 1.]\n",
      "  [1. 1. 1. 1. 1.]\n",
      "  [1. 1. 1. 1. 1.]\n",
      "  [1. 1. 1. 1. 1.]]\n",
      "\n",
      " [[1. 1. 1. 1. 1.]\n",
      "  [1. 1. 1. 1. 1.]\n",
      "  [1. 1. 1. 1. 1.]\n",
      "  [1. 1. 1. 1. 1.]\n",
      "  [1. 1. 1. 1. 1.]]]\n"
     ]
    }
   ],
   "source": [
    "a = np.ones((3,5,5));\n",
    "print(a);"
   ]
  },
  {
   "cell_type": "code",
   "execution_count": 15,
   "metadata": {},
   "outputs": [
    {
     "name": "stdout",
     "output_type": "stream",
     "text": [
      "[[0. 0. 0. 0.]\n",
      " [0. 0. 0. 0.]\n",
      " [0. 0. 0. 0.]]\n"
     ]
    }
   ],
   "source": [
    "a = np.empty((3,4))\n",
    "print(a)"
   ]
  },
  {
   "cell_type": "code",
   "execution_count": 20,
   "metadata": {},
   "outputs": [
    {
     "name": "stdout",
     "output_type": "stream",
     "text": [
      "[[ 1  3  5]\n",
      " [ 7  9 11]]\n"
     ]
    }
   ],
   "source": [
    "a = np.arange(1,13,2)\n",
    "a = a.reshape(2,3)\n",
    "print(a)"
   ]
  },
  {
   "cell_type": "code",
   "execution_count": 51,
   "metadata": {},
   "outputs": [
    {
     "name": "stdout",
     "output_type": "stream",
     "text": [
      "[[[ 2.          2.94736842  3.89473684  4.84210526  5.78947368]\n",
      "  [ 6.73684211  7.68421053  8.63157895  9.57894737 10.52631579]]\n",
      "\n",
      " [[11.47368421 12.42105263 13.36842105 14.31578947 15.26315789]\n",
      "  [16.21052632 17.15789474 18.10526316 19.05263158 20.        ]]]\n",
      "[[ 6.73684211  7.68421053  8.63157895  9.57894737 10.52631579]]\n"
     ]
    }
   ],
   "source": [
    "a = np.linspace(2,20,20).reshape(2,2,5)\n",
    "print(a)\n",
    "print(a[0:1,1])"
   ]
  },
  {
   "cell_type": "code",
   "execution_count": 23,
   "metadata": {},
   "outputs": [
    {
     "name": "stdout",
     "output_type": "stream",
     "text": [
      "[ 2  6 12 20]\n",
      "[ 1  4  9 16]\n"
     ]
    }
   ],
   "source": [
    "a = np.array([1,2,3,4])\n",
    "b = np.array([2,3,4,5])\n",
    "print(a * b)\n",
    "print(a**2)"
   ]
  },
  {
   "cell_type": "code",
   "execution_count": 25,
   "metadata": {},
   "outputs": [
    {
     "name": "stdout",
     "output_type": "stream",
     "text": [
      "[False False  True  True]\n",
      "[3 4]\n"
     ]
    }
   ],
   "source": [
    "print(a>2)\n",
    "print(a[a>2])"
   ]
  },
  {
   "cell_type": "code",
   "execution_count": 30,
   "metadata": {},
   "outputs": [
    {
     "name": "stdout",
     "output_type": "stream",
     "text": [
      "[[1 2 3]\n",
      " [4 5 6]]\n",
      "[[4 5 6]\n",
      " [7 8 9]]\n",
      "[[ 4 10 18]\n",
      " [28 40 54]]\n",
      "[[1 4]\n",
      " [2 5]\n",
      " [3 6]]\n",
      "[[32 37 42]\n",
      " [43 50 57]\n",
      " [54 63 72]]\n"
     ]
    }
   ],
   "source": [
    "a = np.array([[1,2,3],[4,5,6]])\n",
    "b = np.array([[4,5,6],[7,8,9]])\n",
    "print(a)\n",
    "print(b)\n",
    "print(a*b)\n",
    "print(np.transpose(a))\n",
    "print(np.dot(np.transpose(a),b))"
   ]
  },
  {
   "cell_type": "code",
   "execution_count": 34,
   "metadata": {},
   "outputs": [
    {
     "name": "stdout",
     "output_type": "stream",
     "text": [
      "[[32 37 42]\n",
      " [43 50 57]\n",
      " [54 63 72]]\n",
      "[[ 32  50]\n",
      " [ 77 122]]\n"
     ]
    }
   ],
   "source": [
    "print(np.transpose(a).dot(b))\n",
    "print(a.dot(np.transpose(b)))"
   ]
  },
  {
   "cell_type": "code",
   "execution_count": 35,
   "metadata": {},
   "outputs": [
    {
     "name": "stdout",
     "output_type": "stream",
     "text": [
      "[[0.26737905 0.28844887 0.82093671 0.84319254]\n",
      " [0.42104331 0.39187159 0.57252469 0.9262866 ]]\n"
     ]
    }
   ],
   "source": [
    "a = np.random.random((2,4))\n",
    "print(a)"
   ]
  },
  {
   "cell_type": "code",
   "execution_count": 36,
   "metadata": {},
   "outputs": [
    {
     "name": "stdout",
     "output_type": "stream",
     "text": [
      "4.531683360004042\n"
     ]
    }
   ],
   "source": [
    "print(np.sum(a))"
   ]
  },
  {
   "cell_type": "code",
   "execution_count": 40,
   "metadata": {},
   "outputs": [
    {
     "name": "stdout",
     "output_type": "stream",
     "text": [
      "[0.26737905 0.39187159]\n"
     ]
    }
   ],
   "source": [
    "print(np.min(a, axis=1))"
   ]
  },
  {
   "cell_type": "code",
   "execution_count": 38,
   "metadata": {},
   "outputs": [
    {
     "name": "stdout",
     "output_type": "stream",
     "text": [
      "0.9262865992994986\n"
     ]
    }
   ],
   "source": [
    "print(np.max(a))"
   ]
  },
  {
   "cell_type": "code",
   "execution_count": 41,
   "metadata": {},
   "outputs": [
    {
     "name": "stdout",
     "output_type": "stream",
     "text": [
      "[[0.28900215 0.20687832 0.14049008 0.9637216 ]\n",
      " [0.24690433 0.16282087 0.43109994 0.86968909]\n",
      " [0.42818852 0.85399961 0.33402166 0.68464135]]\n"
     ]
    }
   ],
   "source": [
    "a = np.random.random((3,4))\n",
    "print(a)"
   ]
  },
  {
   "cell_type": "code",
   "execution_count": 42,
   "metadata": {},
   "outputs": [
    {
     "name": "stdout",
     "output_type": "stream",
     "text": [
      "2\n",
      "3\n"
     ]
    }
   ],
   "source": [
    "print(np.argmin(a))\n",
    "print(np.argmax(a))"
   ]
  },
  {
   "cell_type": "code",
   "execution_count": 43,
   "metadata": {},
   "outputs": [
    {
     "name": "stdout",
     "output_type": "stream",
     "text": [
      "0.46762146096587237\n"
     ]
    }
   ],
   "source": [
    "print(np.mean(a))"
   ]
  },
  {
   "cell_type": "code",
   "execution_count": 44,
   "metadata": {},
   "outputs": [
    {
     "name": "stdout",
     "output_type": "stream",
     "text": [
      "0.3811050900118398\n"
     ]
    }
   ],
   "source": [
    "print(np.median(a))"
   ]
  },
  {
   "cell_type": "code",
   "execution_count": 45,
   "metadata": {},
   "outputs": [
    {
     "name": "stdout",
     "output_type": "stream",
     "text": [
      "[[0.28900215 0.20687832 0.14049008 0.9637216 ]\n",
      " [0.24690433 0.16282087 0.43109994 0.86968909]\n",
      " [0.42818852 0.85399961 0.33402166 0.68464135]]\n"
     ]
    }
   ],
   "source": [
    "print(a);"
   ]
  },
  {
   "cell_type": "code",
   "execution_count": 46,
   "metadata": {},
   "outputs": [
    {
     "name": "stdout",
     "output_type": "stream",
     "text": [
      "[0.28900215 0.49588047 0.63637055 1.60009216 1.84699649 2.00981736\n",
      " 2.44091729 3.31060639 3.73879491 4.59279452 4.92681618 5.61145753]\n"
     ]
    }
   ],
   "source": [
    "print(np.cumsum(a))"
   ]
  },
  {
   "cell_type": "code",
   "execution_count": 50,
   "metadata": {},
   "outputs": [
    {
     "name": "stdout",
     "output_type": "stream",
     "text": [
      "(array([0, 0, 0, 0, 1, 1, 1, 1, 2, 2, 2, 2]), array([0, 1, 2, 3, 0, 1, 2, 3, 0, 1, 2, 3]))\n",
      "<class 'tuple'>\n",
      "0\n"
     ]
    }
   ],
   "source": [
    "print(np.nonzero(a))\n",
    "b = np.nonzero(a)\n",
    "print(type(b))\n",
    "print(b[0][1])"
   ]
  },
  {
   "cell_type": "code",
   "execution_count": 52,
   "metadata": {},
   "outputs": [
    {
     "name": "stdout",
     "output_type": "stream",
     "text": [
      "[[[ 2.          2.94736842  3.89473684  4.84210526  5.78947368]\n",
      "  [ 6.73684211  7.68421053  8.63157895  9.57894737 10.52631579]]\n",
      "\n",
      " [[11.47368421 12.42105263 13.36842105 14.31578947 15.26315789]\n",
      "  [16.21052632 17.15789474 18.10526316 19.05263158 20.        ]]]\n"
     ]
    }
   ],
   "source": [
    "print(np.sort(a))"
   ]
  },
  {
   "cell_type": "code",
   "execution_count": 53,
   "metadata": {},
   "outputs": [
    {
     "name": "stdout",
     "output_type": "stream",
     "text": [
      "[[[ 2.         11.47368421]\n",
      "  [ 6.73684211 16.21052632]]\n",
      "\n",
      " [[ 2.94736842 12.42105263]\n",
      "  [ 7.68421053 17.15789474]]\n",
      "\n",
      " [[ 3.89473684 13.36842105]\n",
      "  [ 8.63157895 18.10526316]]\n",
      "\n",
      " [[ 4.84210526 14.31578947]\n",
      "  [ 9.57894737 19.05263158]]\n",
      "\n",
      " [[ 5.78947368 15.26315789]\n",
      "  [10.52631579 20.        ]]]\n"
     ]
    }
   ],
   "source": [
    "print(a.T)"
   ]
  },
  {
   "cell_type": "code",
   "execution_count": 55,
   "metadata": {},
   "outputs": [
    {
     "name": "stdout",
     "output_type": "stream",
     "text": [
      "[[ 5  6  7  8  9]\n",
      " [10 11 12 13 14]\n",
      " [15 16 17 18 19]]\n"
     ]
    }
   ],
   "source": [
    "a = np.arange(5,20).reshape((3,5))\n",
    "print(a)"
   ]
  },
  {
   "cell_type": "code",
   "execution_count": 56,
   "metadata": {},
   "outputs": [
    {
     "name": "stdout",
     "output_type": "stream",
     "text": [
      "[[10 10 10 10 10]\n",
      " [10 11 12 13 14]\n",
      " [14 14 14 14 14]]\n"
     ]
    }
   ],
   "source": [
    "print(np.clip(a,10,14))"
   ]
  },
  {
   "cell_type": "code",
   "execution_count": 57,
   "metadata": {},
   "outputs": [
    {
     "name": "stdout",
     "output_type": "stream",
     "text": [
      "0    1.0\n",
      "1    2.0\n",
      "2    3.0\n",
      "3    4.4\n",
      "4    NaN\n",
      "dtype: float64\n"
     ]
    }
   ],
   "source": [
    "s = pd.Series([1,2,3,4.4,np.nan])\n",
    "print(s)"
   ]
  },
  {
   "cell_type": "code",
   "execution_count": 58,
   "metadata": {},
   "outputs": [
    {
     "name": "stdout",
     "output_type": "stream",
     "text": [
      "DatetimeIndex(['2018-11-22', '2018-11-23', '2018-11-24', '2018-11-25',\n",
      "               '2018-11-26', '2018-11-27'],\n",
      "              dtype='datetime64[ns]', freq='D')\n"
     ]
    }
   ],
   "source": [
    "dates = pd.date_range('20181122',periods=6)\n",
    "print(dates)"
   ]
  },
  {
   "cell_type": "code",
   "execution_count": 61,
   "metadata": {},
   "outputs": [
    {
     "name": "stdout",
     "output_type": "stream",
     "text": [
      "                   a         b         c         d\n",
      "2018-11-22  0.406228  0.975858  0.467992  0.894185\n",
      "2018-11-23  0.582743  0.974218  0.261332  0.631284\n",
      "2018-11-24  0.809027  0.557844  0.481190  0.439199\n",
      "2018-11-25  0.808508  0.390588  0.877262  0.713915\n",
      "2018-11-26  0.563745  0.048512  0.847534  0.531647\n",
      "2018-11-27  0.365884  0.075476  0.164038  0.155685\n"
     ]
    }
   ],
   "source": [
    "df = pd.DataFrame(np.random.random((6,4)), index = dates, columns = ['a','b','c','d'])\n",
    "print(df)"
   ]
  },
  {
   "cell_type": "code",
   "execution_count": 70,
   "metadata": {},
   "outputs": [
    {
     "name": "stdout",
     "output_type": "stream",
     "text": [
      "     a    b    c    d\n",
      "1  123  3.2  4.5  6.4\n",
      "2  234  3.2  5.6  7.6\n"
     ]
    }
   ],
   "source": [
    "df = pd.DataFrame({'a': [123,234], 'b': [3.2,3.2], 'c': [4.5, 5.6], 'd':[6.4, 7.6]}, index = [1,2])\n",
    "print(df)"
   ]
  },
  {
   "cell_type": "code",
   "execution_count": 66,
   "metadata": {},
   "outputs": [
    {
     "name": "stdout",
     "output_type": "stream",
     "text": [
      "a      int64\n",
      "b    float64\n",
      "c    float64\n",
      "d    float64\n",
      "dtype: object\n"
     ]
    }
   ],
   "source": [
    "print(df.dtypes)"
   ]
  },
  {
   "cell_type": "code",
   "execution_count": 80,
   "metadata": {},
   "outputs": [
    {
     "name": "stdout",
     "output_type": "stream",
     "text": [
      "Int64Index([1, 2], dtype='int64')\n",
      "[1 2]\n",
      "<class 'pandas.core.indexes.numeric.Int64Index'>\n",
      "<class 'numpy.ndarray'>\n",
      "Index(['a', 'b', 'c', 'd'], dtype='object')\n",
      "['a' 'b' 'c' 'd']\n",
      "<class 'numpy.ndarray'>\n",
      "[[123.    3.2   4.5   6.4]\n",
      " [234.    3.2   5.6   7.6]]\n",
      "<class 'numpy.ndarray'>\n"
     ]
    }
   ],
   "source": [
    "print(df.index)\n",
    "print(df.index.values)\n",
    "print(type(df.index))\n",
    "print(type(df.index.values))\n",
    "print(df.columns)\n",
    "print(df.columns.values)\n",
    "print(type(df.columns.values))\n",
    "print(df.values)\n",
    "print(type(df.values))"
   ]
  },
  {
   "cell_type": "code",
   "execution_count": 82,
   "metadata": {},
   "outputs": [
    {
     "name": "stdout",
     "output_type": "stream",
     "text": [
      "       1      2\n",
      "a  123.0  234.0\n",
      "b    3.2    3.2\n",
      "c    4.5    5.6\n",
      "d    6.4    7.6\n"
     ]
    }
   ],
   "source": [
    "df.describe()\n",
    "print(df.T)"
   ]
  },
  {
   "cell_type": "code",
   "execution_count": 92,
   "metadata": {},
   "outputs": [
    {
     "name": "stdout",
     "output_type": "stream",
     "text": [
      "   0  1\n",
      "1  6  7\n",
      "2  4  5\n",
      "3  2  1\n",
      "   0  1\n",
      "3  2  1\n",
      "2  4  5\n",
      "1  6  7\n"
     ]
    }
   ],
   "source": [
    "df = pd.DataFrame([[6,7],[4,5],[2,1]], index =[1,2,3])\n",
    "print(df)\n",
    "df = df.sort_values(axis=0,by=0)\n",
    "print(df)"
   ]
  },
  {
   "cell_type": "code",
   "execution_count": 94,
   "metadata": {},
   "outputs": [
    {
     "name": "stdout",
     "output_type": "stream",
     "text": [
      "             A   B   C   D\n",
      "2018-11-12   0   1   2   3\n",
      "2018-11-13   4   5   6   7\n",
      "2018-11-14   8   9  10  11\n",
      "2018-11-15  12  13  14  15\n",
      "2018-11-16  16  17  18  19\n",
      "2018-11-17  20  21  22  23\n"
     ]
    }
   ],
   "source": [
    "dates = pd.date_range('20181112',periods=6)\n",
    "df = pd.DataFrame(np.arange(24).reshape((6,4)), index = dates, columns = ['A','B','C','D']);\n",
    "print(df)\n"
   ]
  },
  {
   "cell_type": "code",
   "execution_count": 97,
   "metadata": {},
   "outputs": [
    {
     "name": "stdout",
     "output_type": "stream",
     "text": [
      "2018-11-12     0\n",
      "2018-11-13     4\n",
      "2018-11-14     8\n",
      "2018-11-15    12\n",
      "2018-11-16    16\n",
      "2018-11-17    20\n",
      "Freq: D, Name: A, dtype: int64\n",
      "2018-11-12     0\n",
      "2018-11-13     4\n",
      "2018-11-14     8\n",
      "2018-11-15    12\n",
      "2018-11-16    16\n",
      "2018-11-17    20\n",
      "Freq: D, Name: A, dtype: int64\n",
      "[ 0  4  8 12 16 20]\n"
     ]
    }
   ],
   "source": [
    "print(df['A'])\n",
    "print(df.A)\n",
    "print(df.A.values)"
   ]
  },
  {
   "cell_type": "code",
   "execution_count": 104,
   "metadata": {},
   "outputs": [
    {
     "name": "stdout",
     "output_type": "stream",
     "text": [
      "<class 'pandas.core.series.Series'>\n",
      "            A  B   C   D\n",
      "2018-11-12  0  1   2   3\n",
      "2018-11-13  4  5   6   7\n",
      "2018-11-14  8  9  10  11\n",
      "<class 'pandas.core.frame.DataFrame'>\n",
      "A     8\n",
      "B     9\n",
      "C    10\n",
      "D    11\n",
      "Name: 2018-11-14 00:00:00, dtype: int64\n",
      "<class 'pandas.core.series.Series'>\n",
      "             A   B\n",
      "2018-11-12   0   1\n",
      "2018-11-13   4   5\n",
      "2018-11-14   8   9\n",
      "2018-11-15  12  13\n",
      "2018-11-16  16  17\n",
      "2018-11-17  20  21\n"
     ]
    }
   ],
   "source": [
    "print(type(df.A))\n",
    "print(df[0:3])\n",
    "print(type(df[0:3]))\n",
    "print(df.loc['20181114'])\n",
    "print(type(df.loc['20181114']))\n",
    "print(df.loc[:,['A','B']])"
   ]
  },
  {
   "cell_type": "code",
   "execution_count": 109,
   "metadata": {},
   "outputs": [
    {
     "name": "stdout",
     "output_type": "stream",
     "text": [
      "            B   C   D\n",
      "2018-11-13  5   6   7\n",
      "2018-11-14  9  10  11\n",
      "<class 'pandas.core.frame.DataFrame'>\n",
      "[[ 5  6  7]\n",
      " [ 9 10 11]]\n"
     ]
    }
   ],
   "source": [
    "print(df.iloc[1:3,1:4])\n",
    "print(type(df.iloc[1:3,1:4]))\n",
    "print(df.values[1:3,1:4])"
   ]
  },
  {
   "cell_type": "code",
   "execution_count": 111,
   "metadata": {},
   "outputs": [
    {
     "name": "stdout",
     "output_type": "stream",
     "text": [
      "             A   B   C    D\n",
      "2018-11-12   0   1   2    3\n",
      "2018-11-13   4   5   6    7\n",
      "2018-11-14   8   9  10  111\n",
      "2018-11-15  12  13  14   15\n",
      "2018-11-16  16  17  18   19\n",
      "2018-11-17  20  21  22   23\n"
     ]
    }
   ],
   "source": [
    "df.iloc[2,3] = 111\n",
    "print(df)"
   ]
  }
 ],
 "metadata": {
  "kernelspec": {
   "display_name": "Python 3",
   "language": "python",
   "name": "python3"
  },
  "language_info": {
   "codemirror_mode": {
    "name": "ipython",
    "version": 3
   },
   "file_extension": ".py",
   "mimetype": "text/x-python",
   "name": "python",
   "nbconvert_exporter": "python",
   "pygments_lexer": "ipython3",
   "version": "3.6.4"
  }
 },
 "nbformat": 4,
 "nbformat_minor": 2
}
