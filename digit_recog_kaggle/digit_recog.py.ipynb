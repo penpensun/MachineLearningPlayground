{
 "cells": [
  {
   "cell_type": "code",
   "execution_count": 1,
   "metadata": {},
   "outputs": [
    {
     "name": "stderr",
     "output_type": "stream",
     "text": [
      "/Users/penpen926/Library/anaconda/anaconda3/anaconda3/lib/python3.6/site-packages/h5py/__init__.py:36: FutureWarning: Conversion of the second argument of issubdtype from `float` to `np.floating` is deprecated. In future, it will be treated as `np.float64 == np.dtype(float).type`.\n",
      "  from ._conv import register_converters as _register_converters\n"
     ]
    }
   ],
   "source": [
    "import tensorflow as tf\n",
    "import numpy as np\n",
    "import pandas as pd\n",
    "import matplotlib.pyplot as plt\n",
    "%matplotlib inline"
   ]
  },
  {
   "cell_type": "code",
   "execution_count": 13,
   "metadata": {},
   "outputs": [
    {
     "name": "stdout",
     "output_type": "stream",
     "text": [
      "[[0 0 0 ... 0 0 0]\n",
      " [2 0 0 ... 0 0 0]\n",
      " [3 0 0 ... 0 0 0]\n",
      " ...\n",
      " [7 0 0 ... 0 0 0]\n",
      " [9 0 0 ... 0 0 0]\n",
      " [1 0 0 ... 0 0 0]]\n",
      "[0 2 3 ... 8 6 5]\n",
      "[[0. 0. 0. ... 0. 0. 0.]\n",
      " [0. 0. 0. ... 0. 0. 0.]\n",
      " [0. 0. 0. ... 0. 0. 0.]\n",
      " ...\n",
      " [0. 0. 0. ... 0. 0. 0.]\n",
      " [0. 0. 0. ... 0. 0. 0.]\n",
      " [0. 0. 0. ... 0. 0. 0.]]\n"
     ]
    }
   ],
   "source": [
    "raw_dataset = pd.read_csv(\"/Users/penpen926/workspace/data/train.csv\").values\n",
    "np.random.shuffle(raw_dataset)\n",
    "print(raw_dataset[0:10,:])\n",
    "all_labels = raw_dataset[:,0]\n",
    "all_features = raw_dataset[:,1:]/255\n",
    "print(all_labels)\n",
    "print(all_features);\n"
   ]
  },
  {
   "cell_type": "code",
   "execution_count": 14,
   "metadata": {},
   "outputs": [
    {
     "name": "stdout",
     "output_type": "stream",
     "text": [
      "33600\n",
      "37800\n"
     ]
    }
   ],
   "source": [
    "num_examples = all_labels.size;\n",
    "a,b = num_examples*8//10, num_examples*9//10;\n",
    "print(a)\n",
    "print(b)"
   ]
  },
  {
   "cell_type": "code",
   "execution_count": 15,
   "metadata": {},
   "outputs": [
    {
     "name": "stdout",
     "output_type": "stream",
     "text": [
      "{'train_labels': 8, 'dev_labels': array([8, 6, 3, ..., 5, 1, 4]), 'test_labels': array([7, 4, 2, ..., 8, 6, 5]), 'train_features': array([[0., 0., 0., ..., 0., 0., 0.],\n",
      "       [0., 0., 0., ..., 0., 0., 0.],\n",
      "       [0., 0., 0., ..., 0., 0., 0.],\n",
      "       ...,\n",
      "       [0., 0., 0., ..., 0., 0., 0.],\n",
      "       [0., 0., 0., ..., 0., 0., 0.],\n",
      "       [0., 0., 0., ..., 0., 0., 0.]]), 'dev_features': array([[0., 0., 0., ..., 0., 0., 0.],\n",
      "       [0., 0., 0., ..., 0., 0., 0.],\n",
      "       [0., 0., 0., ..., 0., 0., 0.],\n",
      "       ...,\n",
      "       [0., 0., 0., ..., 0., 0., 0.],\n",
      "       [0., 0., 0., ..., 0., 0., 0.],\n",
      "       [0., 0., 0., ..., 0., 0., 0.]]), 'test_features': array([[0., 0., 0., ..., 0., 0., 0.],\n",
      "       [0., 0., 0., ..., 0., 0., 0.],\n",
      "       [0., 0., 0., ..., 0., 0., 0.],\n",
      "       ...,\n",
      "       [0., 0., 0., ..., 0., 0., 0.],\n",
      "       [0., 0., 0., ..., 0., 0., 0.],\n",
      "       [0., 0., 0., ..., 0., 0., 0.]])}\n"
     ]
    }
   ],
   "source": [
    "dataset = {\n",
    "    'train_labels':all_labels[a],\n",
    "    'dev_labels':all_labels[a:b],\n",
    "    'test_labels': all_labels[b:],\n",
    "    \n",
    "    'train_features':all_features[:a,:],\n",
    "    'dev_features': all_features[a:b,:],\n",
    "    'test_features':all_features[b:,:]\n",
    "}\n",
    "print(dataset)"
   ]
  },
  {
   "cell_type": "code",
   "execution_count": 17,
   "metadata": {},
   "outputs": [
    {
     "data": {
      "image/png": "[encoded data removed]",
      "text/plain": [
       "<matplotlib.figure.Figure at 0x1820248320>"
      ]
     },
     "metadata": {},
     "output_type": "display_data"
    }
   ],
   "source": [
    "def plot_digit(pixels):\n",
    "    plt.imshow(pixels.reshape(28,28))\n",
    "    plt.show()\n",
    "\n",
    "plot_digit(dataset['train_features'][10,:])\n"
   ]
  },
  {
   "cell_type": "code",
   "execution_count": null,
   "metadata": {},
   "outputs": [],
   "source": [
    "def input_nodes(num_features, num_labels):\n",
    "    X = tf.placeholder(tf.float32, name = 'X', shape = [None, num_features])\n",
    "    labels = tf.placeholder(tf.int64, name ='labels', shape = [None])\n",
    "    with tf.name_scope('labels_to_Y'):\n",
    "        Y = tf.one_hot(labels, num_labels, name = 'Y')\n",
    "    return X, labels, Y\n"
   ]
  },
  {
   "cell_type": "code",
   "execution_count": null,
   "metadata": {},
   "outputs": [],
   "source": [
    "def linear_layer(input_, in_size, out_size, name):\n",
    "    with tf.variable_scope(name):\n",
    "        W = tf.get_variable('W', initializer = tf.contrib.layers.xavier_initializer(), shape = [out_size, in_size])\n",
    "        b = tf.get_variable('b', initializer = tf.zeros_initializer(), shape = [out_size])\n",
    "    return tf.matmul(input_, W, transpose_b = True)+b"
   ]
  },
  {
   "cell_type": "code",
   "execution_count": null,
   "metadata": {},
   "outputs": [],
   "source": [
    "def relu_layer(input_, in_size, out_size, name):\n",
    "    return tf.nn.relu(linear_layer(input_, in_size, out_size, name));"
   ]
  },
  {
   "cell_type": "code",
   "execution_count": null,
   "metadata": {},
   "outputs": [],
   "source": [
    "def forward_prop(X, layers):\n",
    "    for l in range(1, len(layers) - 1):\n",
    "        with tf.name_scope('relu_layer' + str(l)):\n",
    "            X = relu_layer(X, layers[l-1], layers[l], 'weights' + str(l))\n",
    "    l = len(layers) - 1\n",
    "    with tf.name_scope('linear_layer'):\n",
    "        X = linear_layer(X, layers[l-1], layers[l], 'weights' + str(l))\n",
    "    return X"
   ]
  }
 ],
 "metadata": {
  "kernelspec": {
   "display_name": "Python 3",
   "language": "python",
   "name": "python3"
  },
  "language_info": {
   "codemirror_mode": {
    "name": "ipython",
    "version": 3
   },
   "file_extension": ".py",
   "mimetype": "text/x-python",
   "name": "python",
   "nbconvert_exporter": "python",
   "pygments_lexer": "ipython3",
   "version": "3.6.4"
  }
 },
 "nbformat": 4,
 "nbformat_minor": 2
}
