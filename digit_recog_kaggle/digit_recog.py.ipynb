{
 "cells": [
  {
   "cell_type": "code",
   "execution_count": 1,
   "metadata": {},
   "outputs": [
    {
     "name": "stderr",
     "output_type": "stream",
     "text": [
      "/home/ubuntu/anaconda3/envs/tensorflow_p36/lib/python3.6/site-packages/h5py/__init__.py:36: FutureWarning: Conversion of the second argument of issubdtype from `float` to `np.floating` is deprecated. In future, it will be treated as `np.float64 == np.dtype(float).type`.\n",
      "  from ._conv import register_converters as _register_converters\n"
     ]
    }
   ],
   "source": [
    "import tensorflow as tf\n",
    "import numpy as np\n",
    "import pandas as pd\n",
    "import matplotlib.pyplot as plt\n",
    "%matplotlib inline"
   ]
  },
  {
   "cell_type": "code",
   "execution_count": 53,
   "metadata": {},
   "outputs": [
    {
     "name": "stdout",
     "output_type": "stream",
     "text": [
      "[[8 0 0 ... 0 0 0]\n",
      " [3 0 0 ... 0 0 0]\n",
      " [3 0 0 ... 0 0 0]\n",
      " ...\n",
      " [7 0 0 ... 0 0 0]\n",
      " [4 0 0 ... 0 0 0]\n",
      " [6 0 0 ... 0 0 0]]\n",
      "[8 3 3 ... 9 8 4]\n",
      "[[0. 0. 0. ... 0. 0. 0.]\n",
      " [0. 0. 0. ... 0. 0. 0.]\n",
      " [0. 0. 0. ... 0. 0. 0.]\n",
      " ...\n",
      " [0. 0. 0. ... 0. 0. 0.]\n",
      " [0. 0. 0. ... 0. 0. 0.]\n",
      " [0. 0. 0. ... 0. 0. 0.]]\n"
     ]
    }
   ],
   "source": [
    "raw_dataset = pd.read_csv(\"~/workspace/data/train.csv\").values\n",
    "np.random.shuffle(raw_dataset)\n",
    "print(raw_dataset[0:10,:])\n",
    "all_labels = raw_dataset[:,0]\n",
    "all_features = raw_dataset[:,1:]/255\n",
    "print(all_labels)\n",
    "print(all_features);\n"
   ]
  },
  {
   "cell_type": "code",
   "execution_count": 54,
   "metadata": {},
   "outputs": [
    {
     "name": "stdout",
     "output_type": "stream",
     "text": [
      "33600\n",
      "37800\n"
     ]
    }
   ],
   "source": [
    "num_examples = all_labels.size;\n",
    "a,b = num_examples*8//10, num_examples*9//10;\n",
    "print(a)\n",
    "print(b)"
   ]
  },
  {
   "cell_type": "code",
   "execution_count": 58,
   "metadata": {},
   "outputs": [
    {
     "name": "stdout",
     "output_type": "stream",
     "text": [
      "{'train_labels': array([8, 3, 3, ..., 4, 8, 1]), 'dev_labels': array([6, 6, 0, ..., 2, 7, 2]), 'test_labels': array([8, 0, 0, ..., 9, 8, 4]), 'train_features': array([[0., 0., 0., ..., 0., 0., 0.],\n",
      "       [0., 0., 0., ..., 0., 0., 0.],\n",
      "       [0., 0., 0., ..., 0., 0., 0.],\n",
      "       ...,\n",
      "       [0., 0., 0., ..., 0., 0., 0.],\n",
      "       [0., 0., 0., ..., 0., 0., 0.],\n",
      "       [0., 0., 0., ..., 0., 0., 0.]]), 'dev_features': array([[0., 0., 0., ..., 0., 0., 0.],\n",
      "       [0., 0., 0., ..., 0., 0., 0.],\n",
      "       [0., 0., 0., ..., 0., 0., 0.],\n",
      "       ...,\n",
      "       [0., 0., 0., ..., 0., 0., 0.],\n",
      "       [0., 0., 0., ..., 0., 0., 0.],\n",
      "       [0., 0., 0., ..., 0., 0., 0.]]), 'test_features': array([[0., 0., 0., ..., 0., 0., 0.],\n",
      "       [0., 0., 0., ..., 0., 0., 0.],\n",
      "       [0., 0., 0., ..., 0., 0., 0.],\n",
      "       ...,\n",
      "       [0., 0., 0., ..., 0., 0., 0.],\n",
      "       [0., 0., 0., ..., 0., 0., 0.],\n",
      "       [0., 0., 0., ..., 0., 0., 0.]])}\n"
     ]
    }
   ],
   "source": [
    "dataset = {\n",
    "    'train_labels':all_labels[:a],\n",
    "    'dev_labels':all_labels[a:b],\n",
    "    'test_labels': all_labels[b:],\n",
    "    \n",
    "    'train_features':all_features[:a,:],\n",
    "    'dev_features': all_features[a:b,:],\n",
    "    'test_features':all_features[b:,:]\n",
    "}\n",
    "print(dataset)"
   ]
  },
  {
   "cell_type": "code",
   "execution_count": 43,
   "metadata": {},
   "outputs": [
    {
     "data": {
      "image/png": "[encoded data removed]",
      "text/plain": [
       "<Figure size 432x288 with 1 Axes>"
      ]
     },
     "metadata": {},
     "output_type": "display_data"
    }
   ],
   "source": [
    "def plot_digit(pixels):\n",
    "    plt.imshow(pixels.reshape(28,28))\n",
    "    plt.show()\n",
    "\n",
    "plot_digit(dataset['train_features'][10,:])\n"
   ]
  },
  {
   "cell_type": "code",
   "execution_count": 44,
   "metadata": {},
   "outputs": [],
   "source": [
    "def input_nodes(num_features, num_labels):\n",
    "    X = tf.placeholder(tf.float32, name = 'X', shape = [None, num_features])\n",
    "    labels = tf.placeholder(tf.int64, name = 'labels', shape = [None])\n",
    "    with tf.name_scope('labels_to_Y'):\n",
    "        Y = tf.one_hot(labels, num_labels, name = 'Y')\n",
    "    return X, labels, Y\n"
   ]
  },
  {
   "cell_type": "code",
   "execution_count": 45,
   "metadata": {},
   "outputs": [],
   "source": [
    "\n",
    "\n",
    "def linear_layer(input_, in_size, out_size, name):\n",
    "    with tf.variable_scope(name):\n",
    "        W = tf.get_variable('W', initializer=tf.contrib.layers.xavier_initializer(), shape=[out_size, in_size])\n",
    "        b = tf.get_variable('b', initializer=tf.zeros_initializer(), shape=[out_size])\n",
    "    return tf.matmul(input_, W, transpose_b=True) + b\n",
    "\n"
   ]
  },
  {
   "cell_type": "code",
   "execution_count": 46,
   "metadata": {},
   "outputs": [],
   "source": [
    "\n",
    "\n",
    "def relu_layer(input_, in_size, out_size, name):\n",
    "    return tf.nn.relu(linear_layer(input_, in_size, out_size, name))\n",
    "\n"
   ]
  },
  {
   "cell_type": "code",
   "execution_count": 47,
   "metadata": {},
   "outputs": [],
   "source": [
    "def forward_prop(X, layers):\n",
    "    for l in range(1, len(layers) - 1):\n",
    "        with tf.name_scope('relu_layer' + str(l)):\n",
    "            X = relu_layer(X, layers[l-1], layers[l], 'weights' + str(l))\n",
    "    l = len(layers) - 1\n",
    "    with tf.name_scope('linear_layer'):\n",
    "        X = linear_layer(X, layers[l-1], layers[l], 'weights' + str(l))\n",
    "    return X"
   ]
  },
  {
   "cell_type": "code",
   "execution_count": 48,
   "metadata": {},
   "outputs": [],
   "source": [
    "\n",
    "\n",
    "def cost_function(logits, labels):\n",
    "    return tf.reduce_mean(tf.nn.softmax_cross_entropy_with_logits(logits=logits, labels=labels))\n",
    "\n",
    "\n"
   ]
  },
  {
   "cell_type": "code",
   "execution_count": 49,
   "metadata": {},
   "outputs": [],
   "source": [
    "def logits_to_labels(logits, num_labels):\n",
    "    return tf.argmax(logits, axis=1)"
   ]
  },
  {
   "cell_type": "code",
   "execution_count": 50,
   "metadata": {},
   "outputs": [],
   "source": [
    "\n",
    "\n",
    "def accuracy(predictions, labels):\n",
    "    correct = tf.equal(predictions, labels)\n",
    "    acc = tf.reduce_mean(tf.cast(correct, tf.float32))\n",
    "    return acc\n",
    "\n"
   ]
  },
  {
   "cell_type": "code",
   "execution_count": 61,
   "metadata": {},
   "outputs": [],
   "source": [
    "def model(X_train, labels_train, X_dev, labels_dev, layers=[784, 200, 10], num_epochs=100, learning_rate=0.01,\n",
    "          writer_dir='~/workspace/data/kaggle_digit_recog/tensorboard/model1/default', \n",
    "          checkpoint='~/workspace/data/kaggle_digit_recog/checkpoints/model.ckpt'):\n",
    "    tf.reset_default_graph()\n",
    "    \n",
    "    X, labels, Y = input_nodes(layers[0], layers[-1])\n",
    "    with tf.name_scope('forward_prop'):\n",
    "        logits = forward_prop(X, layers)\n",
    "    with tf.name_scope('cost'):\n",
    "        cost = cost_function(logits, Y)\n",
    "    with tf.name_scope('accuracy'):\n",
    "        acc = accuracy(logits_to_labels(logits, layers[-1]), labels)\n",
    "    with tf.name_scope('summaries'):\n",
    "        tf.summary.scalar('cost', cost)\n",
    "        tf.summary.scalar('accuracy', acc)\n",
    "    \n",
    "    with tf.name_scope('optimizer'):\n",
    "        train_step = tf.train.AdamOptimizer(learning_rate).minimize(cost)\n",
    "    \n",
    "    with tf.name_scope('summaries'):\n",
    "        merge = tf.summary.merge_all()\n",
    "    \n",
    "    init = tf.global_variables_initializer()\n",
    "    saver = tf.train.Saver()\n",
    "    \n",
    "    graph_writer = tf.summary.FileWriter(writer_dir + '/graph')\n",
    "    train_writer = tf.summary.FileWriter(writer_dir + '/train')\n",
    "    dev_writer = tf.summary.FileWriter(writer_dir + '/dev')\n",
    "    \n",
    "    with tf.Session() as sess:\n",
    "        graph_writer.add_graph(sess.graph)\n",
    "        sess.run(init)\n",
    "        for i in range(1, num_epochs + 1):\n",
    "            \n",
    "            summary, _, cost_val = sess.run([merge, train_step, cost], { X: X_train, labels: labels_train })\n",
    "            train_writer.add_summary(summary, i)\n",
    "            if i % 10 == 0:\n",
    "                print('{}. iteration: train cost = {}'.format(i, cost_val))\n",
    "            \n",
    "            summary, cost_val = sess.run([merge, cost], { X: X_dev, labels: labels_dev })\n",
    "            dev_writer.add_summary(summary, i)\n",
    "            if i % 10 == 0:\n",
    "                print('dev cost = {}'.format(cost_val))\n",
    "        saver.save(sess, checkpoint)\n",
    "    \n",
    "    graph_writer.close()\n",
    "    train_writer.close()\n",
    "    dev_writer.close()"
   ]
  },
  {
   "cell_type": "code",
   "execution_count": 62,
   "metadata": {},
   "outputs": [
    {
     "name": "stdout",
     "output_type": "stream",
     "text": [
      "10. iteration: train cost = 0.4363550841808319\n",
      "dev cost = 0.40369194746017456\n",
      "20. iteration: train cost = 0.2817750871181488\n",
      "dev cost = 0.2840259075164795\n",
      "30. iteration: train cost = 0.20530670881271362\n",
      "dev cost = 0.22030200064182281\n",
      "40. iteration: train cost = 0.16113027930259705\n",
      "dev cost = 0.1836216151714325\n",
      "50. iteration: train cost = 0.12991689145565033\n",
      "dev cost = 0.15726251900196075\n",
      "60. iteration: train cost = 0.10578600317239761\n",
      "dev cost = 0.13763561844825745\n",
      "70. iteration: train cost = 0.08648353070020676\n",
      "dev cost = 0.1249823123216629\n",
      "80. iteration: train cost = 0.07073178142309189\n",
      "dev cost = 0.11551671475172043\n",
      "90. iteration: train cost = 0.05789212882518768\n",
      "dev cost = 0.10992878675460815\n",
      "100. iteration: train cost = 0.04754532501101494\n",
      "dev cost = 0.10638687759637833\n",
      "110. iteration: train cost = 0.039237141609191895\n",
      "dev cost = 0.10461107641458511\n",
      "120. iteration: train cost = 0.03259209170937538\n",
      "dev cost = 0.10380515456199646\n",
      "130. iteration: train cost = 0.027251098304986954\n",
      "dev cost = 0.10374373197555542\n",
      "140. iteration: train cost = 0.022908423095941544\n",
      "dev cost = 0.10401355475187302\n",
      "150. iteration: train cost = 0.019360346719622612\n",
      "dev cost = 0.10509427636861801\n",
      "160. iteration: train cost = 0.016458716243505478\n",
      "dev cost = 0.10644658654928207\n",
      "170. iteration: train cost = 0.01409063395112753\n",
      "dev cost = 0.10789023339748383\n",
      "180. iteration: train cost = 0.012144350446760654\n",
      "dev cost = 0.10946617275476456\n",
      "190. iteration: train cost = 0.010534332133829594\n",
      "dev cost = 0.11093271523714066\n",
      "200. iteration: train cost = 0.009195627644658089\n",
      "dev cost = 0.11246628314256668\n"
     ]
    }
   ],
   "source": [
    "model(dataset['train_features'], dataset['train_labels'], dataset['dev_features'], dataset['dev_labels'],\n",
    "      num_epochs=200, writer_dir='~/workspace/data/kaggle_digit_recog/1')"
   ]
  },
  {
   "cell_type": "code",
   "execution_count": null,
   "metadata": {},
   "outputs": [],
   "source": []
  }
 ],
 "metadata": {
  "kernelspec": {
   "display_name": "Python 3",
   "language": "python",
   "name": "python3"
  },
  "language_info": {
   "codemirror_mode": {
    "name": "ipython",
    "version": 3
   },
   "file_extension": ".py",
   "mimetype": "text/x-python",
   "name": "python",
   "nbconvert_exporter": "python",
   "pygments_lexer": "ipython3",
   "version": "3.6.4"
  }
 },
 "nbformat": 4,
 "nbformat_minor": 2
}
