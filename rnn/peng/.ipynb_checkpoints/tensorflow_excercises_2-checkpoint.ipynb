{
 "cells": [
  {
   "cell_type": "code",
   "execution_count": 7,
   "metadata": {},
   "outputs": [
    {
     "ename": "SyntaxError",
     "evalue": "positional argument follows keyword argument (<ipython-input-7-7c8efae83e47>, line 9)",
     "output_type": "error",
     "traceback": [
      "\u001b[1;36m  File \u001b[1;32m\"<ipython-input-7-7c8efae83e47>\"\u001b[1;36m, line \u001b[1;32m9\u001b[0m\n\u001b[1;33m    out = tf.cond(pred = tf.less(x,y), lambda: tf.add(x,y), lambda: tf.subtract(x,y));\u001b[0m\n\u001b[1;37m                                      ^\u001b[0m\n\u001b[1;31mSyntaxError\u001b[0m\u001b[1;31m:\u001b[0m positional argument follows keyword argument\n"
     ]
    }
   ],
   "source": [
    "import numpy as np;\n",
    "import tensorflow as tf;\n",
    "\"\"\" Ex1. Let x and y be random 0-D tensors. Return x + y if x < y and x - y otherwise. \"\"\" \n",
    "sess = tf.InteractiveSession();\n",
    "x = tf.random_uniform([]);\n",
    "y = tf.random_uniform([]);\n",
    "print(x.eval());\n",
    "print(y.eval());\n",
    "out = tf.cond(pred = tf.less(x,y), lambda: tf.add(x,y), lambda: tf.subtract(x,y));\n",
    "print (out.eval());\n",
    "\n"
   ]
  },
  {
   "cell_type": "code",
   "execution_count": null,
   "metadata": {
    "collapsed": true
   },
   "outputs": [],
   "source": []
  }
 ],
 "metadata": {
  "kernelspec": {
   "display_name": "Python 3",
   "language": "python",
   "name": "python3"
  },
  "language_info": {
   "codemirror_mode": {
    "name": "ipython",
    "version": 3
   },
   "file_extension": ".py",
   "mimetype": "text/x-python",
   "name": "python",
   "nbconvert_exporter": "python",
   "pygments_lexer": "ipython3",
   "version": "3.6.2"
  }
 },
 "nbformat": 4,
 "nbformat_minor": 2
}
