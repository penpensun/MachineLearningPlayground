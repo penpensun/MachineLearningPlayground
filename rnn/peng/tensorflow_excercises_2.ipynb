{
 "cells": [
  {
   "cell_type": "code",
   "execution_count": 11,
   "metadata": {},
   "outputs": [
    {
     "name": "stdout",
     "output_type": "stream",
     "text": [
      "0.048642635\n"
     ]
    },
    {
     "name": "stderr",
     "output_type": "stream",
     "text": [
      "C:\\softwares\\Anaconda3\\lib\\site-packages\\tensorflow\\python\\client\\session.py:1711: UserWarning: An interactive session is already active. This can cause out-of-memory errors in some cases. You must explicitly call `InteractiveSession.close()` to release resources held by the other session(s).\n",
      "  warnings.warn('An interactive session is already active. This can '\n"
     ]
    }
   ],
   "source": [
    "import numpy as np;\n",
    "import tensorflow as tf;\n",
    "\"\"\" Ex1. Let x and y be random 0-D tensors. Return x + y if x < y and x - y otherwise. \"\"\" \n",
    "sess = tf.InteractiveSession();\n",
    "x = tf.random_uniform([]);\n",
    "y = tf.random_uniform([]);\n",
    "out = tf.cond(pred = tf.less(x,y), true_fn = lambda: tf.add(x,y), false_fn = lambda: tf.subtract(x,y));\n",
    "print (out.eval());\n",
    "\n"
   ]
  },
  {
   "cell_type": "code",
   "execution_count": 12,
   "metadata": {},
   "outputs": [
    {
     "name": "stdout",
     "output_type": "stream",
     "text": [
      "WARNING:tensorflow:case: An unordered dictionary of predicate/fn pairs was provided, but exclusive=False. The order of conditional tests is deterministic but not guaranteed.\n",
      "2\n"
     ]
    }
   ],
   "source": [
    "x= tf.random_uniform([], minval = 0, maxval = 5, dtype = tf.int32);\n",
    "y= tf.random_uniform([], minval = 0, maxval = 5, dtype = tf.int32);\n",
    "out = tf.case({tf.less(x,y): lambda: tf.add(x,y), tf.greater(x,y): lambda: tf.subtract(x,y)},\n",
    "             default = lambda: tf.constant(0), exclusive = False);\n",
    "print(out.eval());"
   ]
  },
  {
   "cell_type": "code",
   "execution_count": null,
   "metadata": {
    "collapsed": true
   },
   "outputs": [],
   "source": []
  }
 ],
 "metadata": {
  "kernelspec": {
   "display_name": "Python 3",
   "language": "python",
   "name": "python3"
  },
  "language_info": {
   "codemirror_mode": {
    "name": "ipython",
    "version": 3
   },
   "file_extension": ".py",
   "mimetype": "text/x-python",
   "name": "python",
   "nbconvert_exporter": "python",
   "pygments_lexer": "ipython3",
   "version": "3.6.2"
  }
 },
 "nbformat": 4,
 "nbformat_minor": 2
}
