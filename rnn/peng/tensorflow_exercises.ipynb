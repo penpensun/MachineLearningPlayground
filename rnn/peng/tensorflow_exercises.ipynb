{
 "cells": [
  {
   "cell_type": "code",
   "execution_count": 4,
   "metadata": {},
   "outputs": [
    {
     "name": "stdout",
     "output_type": "stream",
     "text": [
      "Tensor(\"zeros_2:0\", shape=(2, 3), dtype=float32)\n"
     ]
    },
    {
     "name": "stderr",
     "output_type": "stream",
     "text": [
      "/Users/penpen926/Library/anaconda/anaconda3/anaconda3/lib/python3.6/site-packages/tensorflow/python/client/session.py:1711: UserWarning: An interactive session is already active. This can cause out-of-memory errors in some cases. You must explicitly call `InteractiveSession.close()` to release resources held by the other session(s).\n",
      "  warnings.warn('An interactive session is already active. This can '\n"
     ]
    }
   ],
   "source": [
    "import tensorflow as tf;\n",
    "import numpy as np;\n",
    "import matplotlib.pyplot as plt;\n",
    "\n",
    "sess = tf.InteractiveSession();\n",
    "zero_tensor = tf.zeros(shape = (2,3));\n",
    "print(zero_tensor.eval());"
   ]
  },
  {
   "cell_type": "code",
   "execution_count": 5,
   "metadata": {},
   "outputs": [
    {
     "name": "stdout",
     "output_type": "stream",
     "text": [
      "[[0. 0. 0.]\n",
      " [0. 0. 0.]]\n"
     ]
    }
   ],
   "source": [
    "x = [[1,2,3,],[4,5,6]];\n",
    "tensor_1= tf.Variable(initial_value = x);\n",
    "tensor_2 = tf.zeros(shape = tensor_1.shape);\n",
    "print(tensor_2.eval());"
   ]
  },
  {
   "cell_type": "code",
   "execution_count": 6,
   "metadata": {},
   "outputs": [
    {
     "name": "stdout",
     "output_type": "stream",
     "text": [
      "[[0 0 0]\n",
      " [0 0 0]]\n"
     ]
    }
   ],
   "source": [
    "x = tf.convert_to_tensor((np.array([[1,2,3],[4,5,6]])));\n",
    "x_tensor= tf.zeros_like(x);\n",
    "print(x_tensor.eval());"
   ]
  },
  {
   "cell_type": "code",
   "execution_count": 8,
   "metadata": {},
   "outputs": [
    {
     "name": "stdout",
     "output_type": "stream",
     "text": [
      "[[5 5]\n",
      " [5 5]\n",
      " [5 5]]\n",
      "[[5 5]\n",
      " [5 5]\n",
      " [5 5]]\n"
     ]
    }
   ],
   "source": [
    "x_array = np.ones(shape = (3,2),dtype = np.int8);\n",
    "x_array.fill(5);\n",
    "print(x_array);\n",
    "x_tensor = tf.convert_to_tensor(x_array);\n",
    "print(x_tensor.eval());"
   ]
  },
  {
   "cell_type": "code",
   "execution_count": 9,
   "metadata": {},
   "outputs": [
    {
     "name": "stdout",
     "output_type": "stream",
     "text": [
      "[[1 3 5]\n",
      " [4 6 8]]\n"
     ]
    }
   ],
   "source": [
    "x_array = np.array([[1,3,5],[4,6,8]]);\n",
    "x_tensor = tf.convert_to_tensor(x_array);\n",
    "x_tensor_2 = \n",
    "print(x_tensor.eval());"
   ]
  },
  {
   "cell_type": "code",
   "execution_count": 13,
   "metadata": {},
   "outputs": [
    {
     "name": "stdout",
     "output_type": "stream",
     "text": [
      "[[4 4 4]\n",
      " [4 4 4]]\n",
      "[[4 4 4]\n",
      " [4 4 4]]\n"
     ]
    }
   ],
   "source": [
    "x_tensor = tf.fill(dims = [2,3],value = 4)\n",
    "print(x_tensor.eval());\n",
    "x_tensor= tf.constant(4, shape=[2,3]);\n",
    "print(x_tensor.eval());"
   ]
  },
  {
   "cell_type": "code",
   "execution_count": 16,
   "metadata": {},
   "outputs": [
    {
     "name": "stdout",
     "output_type": "stream",
     "text": [
      "[ 5.         5.102041   5.2040815  5.3061223  5.408163   5.5102043\n",
      "  5.612245   5.714286   5.8163266  5.9183674  6.020408   6.122449\n",
      "  6.2244897  6.3265305  6.4285717  6.5306125  6.632653   6.734694\n",
      "  6.836735   6.9387755  7.0408163  7.1428576  7.244898   7.346939\n",
      "  7.4489794  7.5510206  7.6530614  7.755102   7.857143   7.9591837\n",
      "  8.061225   8.163265   8.265306   8.367347   8.469388   8.571428\n",
      "  8.67347    8.775511   8.877551   8.979592   9.081633   9.183674\n",
      "  9.285715   9.387755   9.489796   9.591837   9.693878   9.795918\n",
      "  9.897959  10.       ]\n"
     ]
    }
   ],
   "source": [
    "x_tensor = tf.linspace(start = 5.0, stop= 10.0, num = 50 );\n",
    "print(x_tensor.eval());"
   ]
  },
  {
   "cell_type": "code",
   "execution_count": 17,
   "metadata": {},
   "outputs": [
    {
     "name": "stdout",
     "output_type": "stream",
     "text": [
      "[ 10  12  14  16  18  20  22  24  26  28  30  32  34  36  38  40  42  44\n",
      "  46  48  50  52  54  56  58  60  62  64  66  68  70  72  74  76  78  80\n",
      "  82  84  86  88  90  92  94  96  98 100]\n"
     ]
    }
   ],
   "source": [
    "x_tensor = tf.range(start = 10, limit = 102, delta = 2);\n",
    "print(x_tensor.eval());"
   ]
  },
  {
   "cell_type": "code",
   "execution_count": 18,
   "metadata": {},
   "outputs": [
    {
     "name": "stdout",
     "output_type": "stream",
     "text": [
      "[[-1.5540721   0.6751405 ]\n",
      " [ 0.09201242  1.3693898 ]\n",
      " [ 0.98006546  2.6186945 ]]\n"
     ]
    }
   ],
   "source": [
    "x_tensor = tf.random_normal(shape = [3,2], mean = 0.0, stddev = 2.0);\n",
    "print(x_tensor.eval());"
   ]
  },
  {
   "cell_type": "code",
   "execution_count": 20,
   "metadata": {},
   "outputs": [
    {
     "name": "stdout",
     "output_type": "stream",
     "text": [
      "[[0.9475851  0.4745946 ]\n",
      " [1.3575041  1.1014714 ]\n",
      " [0.04827428 0.89519954]]\n"
     ]
    }
   ],
   "source": [
    "x_tensor = tf.random_uniform(shape = [3,2], minval = 0.0, maxval =2.0);\n",
    "print(x_tensor.eval());"
   ]
  },
  {
   "cell_type": "code",
   "execution_count": null,
   "metadata": {},
   "outputs": [],
   "source": []
  }
 ],
 "metadata": {
  "kernelspec": {
   "display_name": "Python 3",
   "language": "python",
   "name": "python3"
  },
  "language_info": {
   "codemirror_mode": {
    "name": "ipython",
    "version": 3
   },
   "file_extension": ".py",
   "mimetype": "text/x-python",
   "name": "python",
   "nbconvert_exporter": "python",
   "pygments_lexer": "ipython3",
   "version": "3.6.4"
  }
 },
 "nbformat": 4,
 "nbformat_minor": 1
}
